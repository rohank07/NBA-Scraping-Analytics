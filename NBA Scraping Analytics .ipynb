{
 "cells": [
  {
   "cell_type": "code",
   "execution_count": 1,
   "metadata": {},
   "outputs": [],
   "source": [
    "from bs4 import BeautifulSoup\n",
    "import pandas as pd\n",
    "import requests\n",
    "#NBA Stat Leaders 2020-21\n"
   ]
  },
  {
   "cell_type": "code",
   "execution_count": 2,
   "metadata": {},
   "outputs": [
    {
     "name": "stdout",
     "output_type": "stream",
     "text": [
      "['Offensive Leaders', 'Defensive Leaders']\n"
     ]
    }
   ],
   "source": [
    "page = requests.get('https://www.espn.com/nba/stats')\n",
    "soup = BeautifulSoup(page.content, 'html.parser')\n",
    "stat = []\n",
    "statLeader = soup.find_all(class_='Table__Title remove_capitalize pt2')\n",
    "stat.append(statLeader[0].get_text())\n",
    "stat.append(statLeader[1].get_text())\n",
    "print(stat)\n",
    "    "
   ]
  },
  {
   "cell_type": "code",
   "execution_count": 57,
   "metadata": {},
   "outputs": [
    {
     "name": "stdout",
     "output_type": "stream",
     "text": [
      "PointsPTS\n",
      "1James HardenHOU39.0\n",
      "2Trae YoungATL34.0\n",
      "3Bradley BealWSH33.0\n",
      "4Kyrie IrvingBKN29.3\n",
      "5CJ McCollumPOR29.0\n",
      "Complete Leaders\n"
     ]
    }
   ],
   "source": [
    "#statSpecific = soup.find('table', attrs = {'class': 'Table Table--align-right'})\n",
    "#table_body = statSpecific.find_all('tbody')\n",
    "#print(table_body[0])\n",
    "table = soup.find_all(\"table\", {\"class\":\"Table Table--align-right\"})\n",
    "all_rows = table[0].find_all(\"tr\")\n",
    "for r in all_rows:\n",
    "    print(r.get_text())\n",
    "\n",
    "#data"
   ]
  },
  {
   "cell_type": "code",
   "execution_count": 37,
   "metadata": {},
   "outputs": [
    {
     "data": {
      "text/html": [
       "<div>\n",
       "<style scoped>\n",
       "    .dataframe tbody tr th:only-of-type {\n",
       "        vertical-align: middle;\n",
       "    }\n",
       "\n",
       "    .dataframe tbody tr th {\n",
       "        vertical-align: top;\n",
       "    }\n",
       "\n",
       "    .dataframe thead th {\n",
       "        text-align: right;\n",
       "    }\n",
       "</style>\n",
       "<table border=\"1\" class=\"dataframe\">\n",
       "  <thead>\n",
       "    <tr style=\"text-align: right;\">\n",
       "      <th></th>\n",
       "      <th>Blocks</th>\n",
       "      <th>BLK</th>\n",
       "    </tr>\n",
       "  </thead>\n",
       "  <tbody>\n",
       "    <tr>\n",
       "      <th>0</th>\n",
       "      <td>1Myles TurnerIND</td>\n",
       "      <td>5.7</td>\n",
       "    </tr>\n",
       "    <tr>\n",
       "      <th>1</th>\n",
       "      <td>2Chris BoucherTOR</td>\n",
       "      <td>4.5</td>\n",
       "    </tr>\n",
       "    <tr>\n",
       "      <th>2</th>\n",
       "      <td>3Ben SimmonsPHI</td>\n",
       "      <td>2.3</td>\n",
       "    </tr>\n",
       "    <tr>\n",
       "      <th>3</th>\n",
       "      <td>4DeAndre JordanBKN</td>\n",
       "      <td>2.0</td>\n",
       "    </tr>\n",
       "    <tr>\n",
       "      <th>4</th>\n",
       "      <td>4Mikal BridgesPHX</td>\n",
       "      <td>2.0</td>\n",
       "    </tr>\n",
       "    <tr>\n",
       "      <th>5</th>\n",
       "      <td>Complete Leaders</td>\n",
       "      <td>Complete Leaders</td>\n",
       "    </tr>\n",
       "  </tbody>\n",
       "</table>\n",
       "</div>"
      ],
      "text/plain": [
       "               Blocks               BLK\n",
       "0    1Myles TurnerIND               5.7\n",
       "1   2Chris BoucherTOR               4.5\n",
       "2     3Ben SimmonsPHI               2.3\n",
       "3  4DeAndre JordanBKN               2.0\n",
       "4   4Mikal BridgesPHX               2.0\n",
       "5    Complete Leaders  Complete Leaders"
      ]
     },
     "execution_count": 37,
     "metadata": {},
     "output_type": "execute_result"
    }
   ],
   "source": [
    "df"
   ]
  },
  {
   "cell_type": "code",
   "execution_count": null,
   "metadata": {},
   "outputs": [],
   "source": []
  }
 ],
 "metadata": {
  "kernelspec": {
   "display_name": "Python 3",
   "language": "python",
   "name": "python3"
  },
  "language_info": {
   "codemirror_mode": {
    "name": "ipython",
    "version": 3
   },
   "file_extension": ".py",
   "mimetype": "text/x-python",
   "name": "python",
   "nbconvert_exporter": "python",
   "pygments_lexer": "ipython3",
   "version": "3.8.3"
  }
 },
 "nbformat": 4,
 "nbformat_minor": 4
}
