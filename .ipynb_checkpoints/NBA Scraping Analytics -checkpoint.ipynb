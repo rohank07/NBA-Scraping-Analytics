{
 "cells": [
  {
   "cell_type": "code",
   "execution_count": 77,
   "metadata": {},
   "outputs": [],
   "source": [
    "from bs4 import BeautifulSoup\n",
    "import pandas as pd\n",
    "import requests\n",
    "import re\n",
    "from time import sleep\n",
    "import urllib.request\n"
   ]
  },
  {
   "cell_type": "code",
   "execution_count": 56,
   "metadata": {},
   "outputs": [],
   "source": [
    "#Team names\n",
    "request = requests.get('http://www.espn.com/nba/teams')\n",
    "soup = BeautifulSoup(request.content, 'html.parser')\n",
    "teamNames = []\n",
    "rosterUrl = []\n",
    "names = soup.find_all('h2', {'class': 'di clr-gray-01 h5'})\n",
    "for n in names:\n",
    "    teamNames.append(n.get_text())\n",
    "#print(teamNames)\n",
    "#https://www.espn.com/nba/team/roster/_/name/atl/atlanta-hawks\n",
    "\n",
    "url = soup.find_all('div', {'class' : 'TeamLinks__Links'})\n",
    "for u in url:\n",
    "    b = u.find_all('span', {'class' : 'TeamLinks__Link n9 nowrap'})\n",
    "    z = b[2].find_all(href=True)\n",
    "    for u in z:\n",
    "        rosterUrl.append(u['href'])\n"
   ]
  },
  {
   "cell_type": "code",
   "execution_count": 58,
   "metadata": {},
   "outputs": [
    {
     "data": {
      "text/plain": [
       "['Boston Celtics',\n",
       " 'Brooklyn Nets',\n",
       " 'New York Knicks',\n",
       " 'Philadelphia 76ers',\n",
       " 'Toronto Raptors',\n",
       " 'Chicago Bulls',\n",
       " 'Cleveland Cavaliers',\n",
       " 'Detroit Pistons',\n",
       " 'Indiana Pacers',\n",
       " 'Milwaukee Bucks',\n",
       " 'Denver Nuggets',\n",
       " 'Minnesota Timberwolves',\n",
       " 'Oklahoma City Thunder',\n",
       " 'Portland Trail Blazers',\n",
       " 'Utah Jazz',\n",
       " 'Golden State Warriors',\n",
       " 'LA Clippers',\n",
       " 'Los Angeles Lakers',\n",
       " 'Phoenix Suns',\n",
       " 'Sacramento Kings',\n",
       " 'Atlanta Hawks',\n",
       " 'Charlotte Hornets',\n",
       " 'Miami Heat',\n",
       " 'Orlando Magic',\n",
       " 'Washington Wizards',\n",
       " 'Dallas Mavericks',\n",
       " 'Houston Rockets',\n",
       " 'Memphis Grizzlies',\n",
       " 'New Orleans Pelicans',\n",
       " 'San Antonio Spurs']"
      ]
     },
     "execution_count": 58,
     "metadata": {},
     "output_type": "execute_result"
    }
   ],
   "source": [
    "teamNames"
   ]
  },
  {
   "cell_type": "code",
   "execution_count": 57,
   "metadata": {},
   "outputs": [
    {
     "data": {
      "text/plain": [
       "['/nba/team/roster/_/name/bos/boston-celtics',\n",
       " '/nba/team/roster/_/name/bkn/brooklyn-nets',\n",
       " '/nba/team/roster/_/name/ny/new-york-knicks',\n",
       " '/nba/team/roster/_/name/phi/philadelphia-76ers',\n",
       " '/nba/team/roster/_/name/tor/toronto-raptors',\n",
       " '/nba/team/roster/_/name/chi/chicago-bulls',\n",
       " '/nba/team/roster/_/name/cle/cleveland-cavaliers',\n",
       " '/nba/team/roster/_/name/det/detroit-pistons',\n",
       " '/nba/team/roster/_/name/ind/indiana-pacers',\n",
       " '/nba/team/roster/_/name/mil/milwaukee-bucks',\n",
       " '/nba/team/roster/_/name/den/denver-nuggets',\n",
       " '/nba/team/roster/_/name/min/minnesota-timberwolves',\n",
       " '/nba/team/roster/_/name/okc/oklahoma-city-thunder',\n",
       " '/nba/team/roster/_/name/por/portland-trail-blazers',\n",
       " '/nba/team/roster/_/name/utah/utah-jazz',\n",
       " '/nba/team/roster/_/name/gs/golden-state-warriors',\n",
       " '/nba/team/roster/_/name/lac/la-clippers',\n",
       " '/nba/team/roster/_/name/lal/los-angeles-lakers',\n",
       " '/nba/team/roster/_/name/phx/phoenix-suns',\n",
       " '/nba/team/roster/_/name/sac/sacramento-kings',\n",
       " '/nba/team/roster/_/name/atl/atlanta-hawks',\n",
       " '/nba/team/roster/_/name/cha/charlotte-hornets',\n",
       " '/nba/team/roster/_/name/mia/miami-heat',\n",
       " '/nba/team/roster/_/name/orl/orlando-magic',\n",
       " '/nba/team/roster/_/name/wsh/washington-wizards',\n",
       " '/nba/team/roster/_/name/dal/dallas-mavericks',\n",
       " '/nba/team/roster/_/name/hou/houston-rockets',\n",
       " '/nba/team/roster/_/name/mem/memphis-grizzlies',\n",
       " '/nba/team/roster/_/name/no/new-orleans-pelicans',\n",
       " '/nba/team/roster/_/name/sa/san-antonio-spurs']"
      ]
     },
     "execution_count": 57,
     "metadata": {},
     "output_type": "execute_result"
    }
   ],
   "source": [
    "rosterUrl"
   ]
  },
  {
   "cell_type": "code",
   "execution_count": 75,
   "metadata": {},
   "outputs": [
    {
     "data": {
      "text/plain": [
       "{'Boston Celtics': '/nba/team/roster/_/name/bos/boston-celtics',\n",
       " 'Brooklyn Nets': '/nba/team/roster/_/name/bkn/brooklyn-nets',\n",
       " 'New York Knicks': '/nba/team/roster/_/name/ny/new-york-knicks',\n",
       " 'Philadelphia 76ers': '/nba/team/roster/_/name/phi/philadelphia-76ers',\n",
       " 'Toronto Raptors': '/nba/team/roster/_/name/tor/toronto-raptors',\n",
       " 'Chicago Bulls': '/nba/team/roster/_/name/chi/chicago-bulls',\n",
       " 'Cleveland Cavaliers': '/nba/team/roster/_/name/cle/cleveland-cavaliers',\n",
       " 'Detroit Pistons': '/nba/team/roster/_/name/det/detroit-pistons',\n",
       " 'Indiana Pacers': '/nba/team/roster/_/name/ind/indiana-pacers',\n",
       " 'Milwaukee Bucks': '/nba/team/roster/_/name/mil/milwaukee-bucks',\n",
       " 'Denver Nuggets': '/nba/team/roster/_/name/den/denver-nuggets',\n",
       " 'Minnesota Timberwolves': '/nba/team/roster/_/name/min/minnesota-timberwolves',\n",
       " 'Oklahoma City Thunder': '/nba/team/roster/_/name/okc/oklahoma-city-thunder',\n",
       " 'Portland Trail Blazers': '/nba/team/roster/_/name/por/portland-trail-blazers',\n",
       " 'Utah Jazz': '/nba/team/roster/_/name/utah/utah-jazz',\n",
       " 'Golden State Warriors': '/nba/team/roster/_/name/gs/golden-state-warriors',\n",
       " 'LA Clippers': '/nba/team/roster/_/name/lac/la-clippers',\n",
       " 'Los Angeles Lakers': '/nba/team/roster/_/name/lal/los-angeles-lakers',\n",
       " 'Phoenix Suns': '/nba/team/roster/_/name/phx/phoenix-suns',\n",
       " 'Sacramento Kings': '/nba/team/roster/_/name/sac/sacramento-kings',\n",
       " 'Atlanta Hawks': '/nba/team/roster/_/name/atl/atlanta-hawks',\n",
       " 'Charlotte Hornets': '/nba/team/roster/_/name/cha/charlotte-hornets',\n",
       " 'Miami Heat': '/nba/team/roster/_/name/mia/miami-heat',\n",
       " 'Orlando Magic': '/nba/team/roster/_/name/orl/orlando-magic',\n",
       " 'Washington Wizards': '/nba/team/roster/_/name/wsh/washington-wizards',\n",
       " 'Dallas Mavericks': '/nba/team/roster/_/name/dal/dallas-mavericks',\n",
       " 'Houston Rockets': '/nba/team/roster/_/name/hou/houston-rockets',\n",
       " 'Memphis Grizzlies': '/nba/team/roster/_/name/mem/memphis-grizzlies',\n",
       " 'New Orleans Pelicans': '/nba/team/roster/_/name/no/new-orleans-pelicans',\n",
       " 'San Antonio Spurs': '/nba/team/roster/_/name/sa/san-antonio-spurs'}"
      ]
     },
     "execution_count": 75,
     "metadata": {},
     "output_type": "execute_result"
    }
   ],
   "source": [
    "roster_data = dict(zip(teamNames,rosterUrl))\n",
    "roster_data"
   ]
  },
  {
   "cell_type": "code",
   "execution_count": 101,
   "metadata": {},
   "outputs": [
    {
     "data": {
      "text/plain": [
       "[]"
      ]
     },
     "execution_count": 101,
     "metadata": {},
     "output_type": "execute_result"
    }
   ],
   "source": [
    "#format {\"name\":\"Trae Young\",\"href\":\"https://www.espn.com/nba/player/_/id/4277905/\n",
    "url = \"https://www.espn.com/nba/team/roster/_/name/gs/golden-state-warriors\"\n",
    "request = urllib.request.urlopen(url)\n",
    "src = request.read().decode('utf-8')\n",
    "#on each roster page we can return player information\n",
    "player_regex = ('\\{\\\"name\\\"\\:\\\"(\\w+\\s\\w+)\\\",\\\"href\\\"\\:\\\"http\\://www\\.espn\\.com/nba/player/.*?\\\",(.*?)\\}')\n",
    "\n",
    "info = re.findall(player_regex, src)\n",
    "info"
   ]
  },
  {
   "cell_type": "code",
   "execution_count": null,
   "metadata": {},
   "outputs": [],
   "source": []
  },
  {
   "cell_type": "code",
   "execution_count": null,
   "metadata": {},
   "outputs": [],
   "source": []
  }
 ],
 "metadata": {
  "kernelspec": {
   "display_name": "Python 3",
   "language": "python",
   "name": "python3"
  },
  "language_info": {
   "codemirror_mode": {
    "name": "ipython",
    "version": 3
   },
   "file_extension": ".py",
   "mimetype": "text/x-python",
   "name": "python",
   "nbconvert_exporter": "python",
   "pygments_lexer": "ipython3",
   "version": "3.8.3"
  }
 },
 "nbformat": 4,
 "nbformat_minor": 4
}
